{
 "cells": [
  {
   "cell_type": "code",
   "execution_count": null,
   "metadata": {},
   "outputs": [],
   "source": [
    "class Solution:\n",
    "    def twoSum(self, nums: List[int], target: int) -> List[int]:\n",
    "      h={}\n",
    "      for i in range(len(nums)):\n",
    "        h[nums[i]]=i\n",
    "      for i in range (len(nums)):\n",
    "        y = target -nums[i]  \n",
    "        if y in h and h[y]!=i:\n",
    "            return[i,h[y]]"
   ]
  }
 ],
 "metadata": {
  "language_info": {
   "name": "python"
  }
 },
 "nbformat": 4,
 "nbformat_minor": 2
}
